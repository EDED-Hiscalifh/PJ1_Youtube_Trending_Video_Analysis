{
 "cells": [
  {
   "cell_type": "markdown",
   "id": "aefe41c2",
   "metadata": {},
   "source": [
    "# <center> Preprocessing Files on CLI\n",
    "<img src=\"Img/Youtube.jpg\" width=\"300\">\n",
    "\n",
    "# 1. Introduction\n",
    "## 1.1 What is Youtube? \n",
    "    \n",
    "**YouTube** is a free video sharing website that makes it easy to watch online videos. You can even create and upload your own videos to share with others. Originally created in 2005, YouTube is now one of the most popular sites on the Web, with visitors watching around 2.6 billion users worldwide as of 2022. It's ranked as the second-most popular social network, and the only platform that has more active users than YouTube is Facebook.\n",
    "    \n",
    "## [1.2 Context](https://www.kaggle.com/datasets/datasnaek/youtube-new) \n",
    "    \n",
    "YouTube (the world-famous video sharing website) maintains a list of the top trending videos on the platform. According to Variety magazine, \"To determine the year's top-trending videos, YouTube uses a combination of factors including measuring users interactions (number of views, shares, comments and likes). Note that they're not the most-viewed videos overall for the calander year\". Top performers on the YouTube trending list are music videos (such as the famous virile \"Gangam Style\"), celebrity and/or reality TV performances, and the random dude-with-a-camera viral videos that YouTube is well-known for. \n",
    "    \n",
    "This dataset is a daily record of the top top trending YouTube videos. \n",
    "    \n",
    "Note that this dataset is a structurally imporved version of [this dataset.](https://www.kaggle.com/datasnaek/youtube)\n",
    "    \n",
    "## [1.3 Content](https://www.kaggle.com/datasets/datasnaek/youtube-new)\n",
    "    \n",
    "This dataset includes several months (and counting) of data on daily trending YouTube videos. Data is included for the US, GB, DE, CA, and FR regions (USA, Great Britain, Germany, Canada, and France, respectively), with up to 200 listed trending videos per day. \n",
    "    \n",
    "EDIT : Now includes data from RU, MX, KR, JP, and IN regions (Russia, Mexico, South Korea, Japan and India respectively) over the same time period. \n",
    "    \n",
    "Each region's data is in a separate file. Data includes the video title, channel title, publish time, tags, views, likes and dislikes, description, and comment count. \n",
    "    \n",
    "The data also includes a 'category_id' filed, which varies between regions. To retreive the categories for a specific video, find it in the associated JSON. One such file is included fore each of the five regions in the dataset. \n",
    "    \n",
    "For more information on specific columns in the dataset refer to the [column metadata.](https://www.kaggle.com/datasnaek/youtube-new/data)\n",
    "    \n",
    "## 1.4 Features \n",
    "    \n",
    "- video_id : Unique code of video \n",
    "- title : Title of video \t\n",
    "- publishedAt : Published time of video \n",
    "- channelId : Unique code videoof youtube channel \n",
    "- channelTitle : Title of youtube channel\n",
    "- categoryId : Unique code of category\n",
    "- trending_date : Trending date of video \t\n",
    "- tags : Tag of video\n",
    "- view_count : Total view of video \n",
    "- likes : Counts of people like the video \n",
    "- dislikes : Counts of people dislike the video \n",
    "- comment_count : Counts of people comment on the video \n",
    "- thumbnail_link : Linkes of tunmbnails of the video \n",
    "- comments_disabled : Whether people can leave comments \n",
    "- ratings_disabled : Whether people can leave ratings \n",
    "- description : Description of video \n",
    "    \n",
    "## 1.5 Purpose of this Project \n",
    "    \n",
    "**Data Munging**, sometimes refereed to as **data munging**, is the process of transforming and mapping data from one \"raw\" data form into another format with the intent of making it more appropriate and valuable for a variety of downstream purposes such as analytics. The goal of data wrangling is to assure quality and useful data. Data analysts typically spend the majority of their time in the process of data wrangling compared to the actual analysis of the data. \n",
    "    \n",
    "In this project, We will wrangle files in /Dataset merging files by continents."
   ]
  },
  {
   "cell_type": "markdown",
   "id": "db000880",
   "metadata": {},
   "source": [
    "# 2. Check Files "
   ]
  },
  {
   "cell_type": "markdown",
   "id": "e47f0dc0",
   "metadata": {},
   "source": [
    "## 2.1 Check Directory"
   ]
  },
  {
   "cell_type": "code",
   "execution_count": 1,
   "id": "670aeef7",
   "metadata": {},
   "outputs": [
    {
     "name": "stdout",
     "output_type": "stream",
     "text": [
      "BR_category_id.json\t      IN_youtube_trending_data.csv\r\n",
      "BR_youtube_trending_data.csv  JP_category_id.json\r\n",
      "CA_category_id.json\t      JP_youtube_trending_data.csv\r\n",
      "CA_youtube_trending_data.csv  KR_category_id.json\r\n",
      "DE_category_id.json\t      KR_youtube_trending_data.csv\r\n",
      "DE_youtube_trending_data.csv  MX_category_id.json\r\n",
      "FR_category_id.json\t      MX_youtube_trending_data.csv\r\n",
      "FR_youtube_trending_data.csv  RU_category_id.json\r\n",
      "GB_category_id.json\t      RU_youtube_trending_data.csv\r\n",
      "GB_youtube_trending_data.csv  US_category_id.json\r\n",
      "IN_category_id.json\t      US_youtube_trending_data.csv\r\n"
     ]
    }
   ],
   "source": [
    "!ls Dataset"
   ]
  },
  {
   "cell_type": "markdown",
   "id": "93a6ba85",
   "metadata": {},
   "source": [
    "In Dataset files, There are files with aliased coutnry name in front of its name. Each alisas stands for below : \n",
    "\n",
    "- BR : Brazil \n",
    "- CA : Canada\n",
    "- DE : Germany \n",
    "- FR : France \n",
    "- GB : British \n",
    "- IN : India \n",
    "- JP : Japan\n",
    "- KR : Korea \n",
    "- MX : Mexico \n",
    "- RU : Russia \n",
    "- US : USA \n",
    "\n",
    "We will merge countries by their continent. SA(South America : BR, MX), NA(North America : CA, US), EU(Europe : DE, FR, GB, RU), AS(Asia : IN, JP, KR). "
   ]
  },
  {
   "cell_type": "markdown",
   "id": "69feda54",
   "metadata": {},
   "source": [
    "## 2.2 Check Files "
   ]
  },
  {
   "cell_type": "code",
   "execution_count": 2,
   "id": "81008490",
   "metadata": {},
   "outputs": [
    {
     "name": "stdout",
     "output_type": "stream",
     "text": [
      "video_id,title,publishedAt,channelId,channelTitle,categoryId,trending_date,tags,view_count,likes,dislikes,comment_count,thumbnail_link,comments_disabled,ratings_disabled,description\r",
      "\r\n",
      "\"uq5LClQN3cE\",\"안녕하세요 보겸입니다\",\"2020-08-09T09:32:48Z\",\"UCu9BCtGIEr73LXZsKmoujKw\",\"보겸 BK\",\"24\",\"2020-08-12T00:00:00Z\",\"보겸|bokyem\",\"5947503\",\"53326\",\"105756\",\"139946\",\"https://i.ytimg.com/vi/uq5LClQN3cE/default.jpg\",\"False\",\"False\",\"\"\r",
      "\r\n"
     ]
    }
   ],
   "source": [
    "!head -n 2 Dataset/KR_youtube_trending_data.csv"
   ]
  },
  {
   "cell_type": "markdown",
   "id": "dbe8f209",
   "metadata": {},
   "source": [
    "Each file is consisted of one row of column and rows after. Columns are video_id, title, publishedAt, channelId, channelTitle, categoryId, trending_date, tags, view_count, likes, dislikes, comment_count, thumbnail_link, comments_disabled, ratings_disabled, description."
   ]
  },
  {
   "cell_type": "code",
   "execution_count": 3,
   "id": "ae86a90e",
   "metadata": {
    "scrolled": true
   },
   "outputs": [
    {
     "name": "stdout",
     "output_type": "stream",
     "text": [
      "   130555   8824365 155363335 Dataset/KR_youtube_trending_data.csv\r\n"
     ]
    }
   ],
   "source": [
    "!wc Dataset/KR_youtube_trending_data.csv"
   ]
  },
  {
   "cell_type": "markdown",
   "id": "98fa16b6",
   "metadata": {},
   "source": [
    "KR_youtube_trending_data.csv file have 130555 rows and 155MB storage."
   ]
  },
  {
   "cell_type": "code",
   "execution_count": 4,
   "id": "c328046c",
   "metadata": {
    "scrolled": false
   },
   "outputs": [
    {
     "name": "stdout",
     "output_type": "stream",
     "text": [
      "\"vAmsbvSmaNU\",\"팔씨름 리벤지🔥 근수저VS근수저 [시켜서한다! 오늘부터 운동뚱] 23회\",\"2020-08-12T09:00:11Z\",\"UCsOW9TPy2TKkqCchUHL04Fg\",\"맛있는 녀석들 (Tasty Guys)\",\"24\",\"2020-08-13T00:00:00Z\",\"맛있는 녀석들|Tasty Guys|김준현|김민경|문세윤|유민상|코미디TV|오늘부터운동뚱|운동뚱|민경장군|팔씨름|팔달홍지승|팔씨름챔피언|팔씨음의달인|홍지승|생활의달인|힘측정|3대측정|세계1위|챔피언|랭킹1위|팔씨름대회|암레슬링|아놀드클래식|김종국|최강자|순위|승자|대결|제압|training|armwrestling|훅|탑롤|프레스|hook|toproll|press|technique|마동석|팔씨름연맹|정지민|김민경팔씨름|나혼자산다|나혼자산다김민경|네고왕|웹예능|박세리|골프|여자개그맨팔씨름순위|여자개그맨싸움순위|개그우먼싸움순위\",\"622892\",\"9596\",\"142\",\"1152\",\"https://i.ytimg.com/vi/vAmsbvSmaNU/default.jpg\",\"False\",\"False\",\"🔥 2020 복.수.혈.전🔥민경장군을 떨게 만든 그녀 정지민😳아니.. 어머니가 배구선수, 아버지가 테니스 선수라니;;;완전 근수저of근수저 아닙니까…!지민의 홈그라운드에서 펼쳐진 세기의 대결 그 결과는?!?!?!#운동뚱 #김민경 #팔씨름 #팔달홍지승 #팔씨름챔피언#정지민 #세기의대결 #복수혈전 #이기러왔다▣ 맛있는 녀석들 채널을 구독해주세요! ◆ 유튜브 채널  : youtube.com/c/맛있는녀석들TastyGuys◆ 페이스북: https://www.facebook.com/TastyguysOfficial/◆ 인스타그램 : https://www.instagram.com/tastyguys_official/◆  트위터 : https://twitter.com/Tasty_Guys\"\r",
      "\r\n",
      "\"mZuzd1B-Mm8\",\"＂너 목소리가 너무 커!!!!＂ 유치뽕짝 말장난의 달인 탁재훈 모음ZIP. 1탄 [예능맛ZIP/미운우리새끼]\",\"2020-08-13T09:00:30Z\",\"UCy-swBYpRZx7KW11FStjTgw\",\"레알예능 스브스\",\"24\",\"2020-08-14T00:00:00Z\",\"미운우리새끼|미우새|My Little Old Boy|김종국|미우새 김종국|미운우리새끼 김종국|탁재훈|미우새 탁재훈|미운우리새끼 탁재훈|탁재훈 김종국|이상민|임원희|김희철\",\"669695\",\"5075\",\"362\",\"822\",\"https://i.ytimg.com/vi/mZuzd1B-Mm8/default.jpg\",\"False\",\"False\",\"[예능맛ZIP/미운우리새끼]＂너 목소리가 너무 커!!!!＂ 유치뽕짝 말장난의 달인 탁재훈 모음ZIP. 1탄#미운우리새끼 #MyLittleOldBoy #예능맛ZIP\"\r",
      "\r\n",
      "grep: 기록 오류: 파이프가 깨어짐\r\n"
     ]
    }
   ],
   "source": [
    "!grep -i '김종국' Dataset/KR_youtube_trending_data.csv | head -n 2"
   ]
  },
  {
   "cell_type": "markdown",
   "id": "864c14c5",
   "metadata": {},
   "source": [
    "If we use grep command, we can find matching data more fastly using python and other programming languages. Using this command we can extract csv file with specific conditions, above example is grepping trending video with any char with '김종국'."
   ]
  },
  {
   "cell_type": "markdown",
   "id": "58afd0c0",
   "metadata": {},
   "source": [
    "# 3. Preprocess with Commands"
   ]
  },
  {
   "cell_type": "code",
   "execution_count": 5,
   "id": "fe902a1c",
   "metadata": {},
   "outputs": [],
   "source": [
    "# Make files by continent \n",
    "!echo -n \"\" > Wrangled_Dataset/SA_youtube_trending_data.csv \n",
    "!touch Wrangled_Dataset/SA_youtube_trending_data.csv > Wrangled_Dataset/NA_youtube_trending_data.csv \n",
    "!touch Wrangled_Dataset/SA_youtube_trending_data.csv > Wrangled_Dataset/EU_youtube_trending_data.csv \n",
    "!touch Wrangled_Dataset/SA_youtube_trending_data.csv > Wrangled_Dataset/AS_youtube_trending_data.csv"
   ]
  },
  {
   "cell_type": "code",
   "execution_count": 6,
   "id": "0467a53b",
   "metadata": {},
   "outputs": [],
   "source": [
    "# Add columns to files \n",
    "!head -n +1 Dataset/KR_youtube_trending_data.csv >> Wrangled_Dataset/SA_youtube_trending_data.csv \n",
    "!head -n +1 Dataset/KR_youtube_trending_data.csv >> Wrangled_Dataset/NA_youtube_trending_data.csv \n",
    "!head -n +1 Dataset/KR_youtube_trending_data.csv >> Wrangled_Dataset/EU_youtube_trending_data.csv \n",
    "!head -n +1 Dataset/KR_youtube_trending_data.csv >> Wrangled_Dataset/AS_youtube_trending_data.csv "
   ]
  },
  {
   "cell_type": "code",
   "execution_count": 7,
   "id": "c74fe317",
   "metadata": {},
   "outputs": [],
   "source": [
    "# Merge SA_youtube_trending_data.csv \n",
    "!tail -n +2 Dataset/BR_youtube_trending_data.csv >> Wrangled_Dataset/SA_youtube_trending_data.csv\n",
    "!tail -n +2 Dataset/MX_youtube_trending_data.csv >> Wrangled_Dataset/SA_youtube_trending_data.csv "
   ]
  },
  {
   "cell_type": "code",
   "execution_count": 8,
   "id": "d53b37ae",
   "metadata": {},
   "outputs": [],
   "source": [
    "# Merge NA_youtube_trending_data.csv \n",
    "!tail -n +2 Dataset/CA_youtube_trending_data.csv >> Wrangled_Dataset/NA_youtube_trending_data.csv\n",
    "!tail -n +2 Dataset/US_youtube_trending_data.csv >> Wrangled_Dataset/NA_youtube_trending_data.csv "
   ]
  },
  {
   "cell_type": "code",
   "execution_count": 9,
   "id": "27918414",
   "metadata": {},
   "outputs": [],
   "source": [
    "# Merge EU_youtube_trending_data.csv \n",
    "!tail -n +2 Dataset/GB_youtube_trending_data.csv >> Wrangled_Dataset/EU_youtube_trending_data.csv\n",
    "!tail -n +2 Dataset/DE_youtube_trending_data.csv >> Wrangled_Dataset/EU_youtube_trending_data.csv \n",
    "!tail -n +2 Dataset/FR_youtube_trending_data.csv >> Wrangled_Dataset/EU_youtube_trending_data.csv\n",
    "!tail -n +2 Dataset/RU_youtube_trending_data.csv >> Wrangled_Dataset/EU_youtube_trending_data.csv "
   ]
  },
  {
   "cell_type": "code",
   "execution_count": 10,
   "id": "b522ea38",
   "metadata": {},
   "outputs": [],
   "source": [
    "# Merge AS_youtube_trending_data.csv \n",
    "!tail -n +2 Dataset/KR_youtube_trending_data.csv >> Wrangled_Dataset/AS_youtube_trending_data.csv\n",
    "!tail -n +2 Dataset/IN_youtube_trending_data.csv >> Wrangled_Dataset/AS_youtube_trending_data.csv \n",
    "!tail -n +2 Dataset/JP_youtube_trending_data.csv >> Wrangled_Dataset/AS_youtube_trending_data.csv"
   ]
  },
  {
   "cell_type": "code",
   "execution_count": 11,
   "id": "94aef47d",
   "metadata": {},
   "outputs": [
    {
     "name": "stdout",
     "output_type": "stream",
     "text": [
      "130555 Dataset/KR_youtube_trending_data.csv\n",
      "127528 Dataset/IN_youtube_trending_data.csv\n",
      "133588 Dataset/JP_youtube_trending_data.csv\n",
      "391669 Wrangled_Dataset/AS_youtube_trending_data.csv\n"
     ]
    }
   ],
   "source": [
    "# Check the result \n",
    "!wc -l Dataset/KR_youtube_trending_data.csv\n",
    "!wc -l Dataset/IN_youtube_trending_data.csv \n",
    "!wc -l Dataset/JP_youtube_trending_data.csv \n",
    "\n",
    "# Total result \n",
    "!wc -l Wrangled_Dataset/AS_youtube_trending_data.csv"
   ]
  },
  {
   "cell_type": "markdown",
   "id": "322b949b",
   "metadata": {},
   "source": [
    "# 4. Preprocess with CSVkits"
   ]
  },
  {
   "cell_type": "code",
   "execution_count": 12,
   "id": "691b66ca",
   "metadata": {},
   "outputs": [
    {
     "name": "stdout",
     "output_type": "stream",
     "text": [
      "Error: line contains NUL\n",
      "sys:1: ResourceWarning: unclosed file <_io.TextIOWrapper name='Dataset/FR_youtube_trending_data.csv' mode='rt' encoding='utf-8-sig'>\n",
      "Error: line contains NUL\n",
      "sys:1: ResourceWarning: unclosed file <_io.TextIOWrapper name='Dataset/JP_youtube_trending_data.csv' mode='rt' encoding='utf-8-sig'>\n"
     ]
    }
   ],
   "source": [
    "# Merge SA_youtube_trending_data.csv \n",
    "!csvstack -n country -g \"Brazil,Mexico\" Dataset/BR_youtube_trending_data.csv Dataset/MX_youtube_trending_data.csv > Wrangled_Dataset/SA_youtube_trending_data2.csv \n",
    "\n",
    "# Merge NA_youtube_trending_data.csv \n",
    "!csvstack -n country -g \"Canada,USA\" Dataset/CA_youtube_trending_data.csv Dataset/US_youtube_trending_data.csv > Wrangled_Dataset/NA_youtube_trending_data2.csv \n",
    "\n",
    "# Merge EU_youtube_trending_data.csv \n",
    "!csvstack -n country -g \"Britsh,Germany,France,Russia\" Dataset/GB_youtube_trending_data.csv Dataset/DE_youtube_trending_data.csv Dataset/FR_youtube_trending_data.csv Dataset/RU_youtube_trending_data.csv > Wrangled_Dataset/EU_youtube_trending_data2.csv \n",
    "\n",
    "# Merge AS_youtube_trending_data.csv \n",
    "!csvstack -n country -g \"Korea,India,Japan\" Dataset/KR_youtube_trending_data.csv Dataset/JP_youtube_trending_data.csv Dataset/IN_youtube_trending_data.csv > Wrangled_Dataset/AS_youtube_trending_data2.csv "
   ]
  },
  {
   "cell_type": "code",
   "execution_count": 13,
   "id": "29cbfd46",
   "metadata": {},
   "outputs": [
    {
     "name": "stdout",
     "output_type": "stream",
     "text": [
      "130555 Dataset/KR_youtube_trending_data.csv\n",
      "127528 Dataset/IN_youtube_trending_data.csv\n",
      "133588 Dataset/JP_youtube_trending_data.csv\n",
      "303428 Wrangled_Dataset/AS_youtube_trending_data2.csv\n"
     ]
    }
   ],
   "source": [
    "# Check the result \n",
    "!wc -l Dataset/KR_youtube_trending_data.csv\n",
    "!wc -l Dataset/IN_youtube_trending_data.csv \n",
    "!wc -l Dataset/JP_youtube_trending_data.csv \n",
    "\n",
    "# Total result \n",
    "!wc -l Wrangled_Dataset/AS_youtube_trending_data2.csv"
   ]
  }
 ],
 "metadata": {
  "kernelspec": {
   "display_name": "Python 3",
   "language": "python",
   "name": "python3"
  },
  "language_info": {
   "codemirror_mode": {
    "name": "ipython",
    "version": 3
   },
   "file_extension": ".py",
   "mimetype": "text/x-python",
   "name": "python",
   "nbconvert_exporter": "python",
   "pygments_lexer": "ipython3",
   "version": "3.8.8"
  },
  "toc": {
   "base_numbering": 1,
   "nav_menu": {},
   "number_sections": false,
   "sideBar": true,
   "skip_h1_title": false,
   "title_cell": "Table of Contents",
   "title_sidebar": "Contents",
   "toc_cell": false,
   "toc_position": {
    "height": "calc(100% - 180px)",
    "left": "10px",
    "top": "150px",
    "width": "275.2px"
   },
   "toc_section_display": true,
   "toc_window_display": true
  },
  "varInspector": {
   "cols": {
    "lenName": 16,
    "lenType": 16,
    "lenVar": 40
   },
   "kernels_config": {
    "python": {
     "delete_cmd_postfix": "",
     "delete_cmd_prefix": "del ",
     "library": "var_list.py",
     "varRefreshCmd": "print(var_dic_list())"
    },
    "r": {
     "delete_cmd_postfix": ") ",
     "delete_cmd_prefix": "rm(",
     "library": "var_list.r",
     "varRefreshCmd": "cat(var_dic_list()) "
    }
   },
   "types_to_exclude": [
    "module",
    "function",
    "builtin_function_or_method",
    "instance",
    "_Feature"
   ],
   "window_display": false
  }
 },
 "nbformat": 4,
 "nbformat_minor": 5
}
